{
 "cells": [
  {
   "attachments": {},
   "cell_type": "markdown",
   "metadata": {},
   "source": [
    "<h1>Introduction: Data Processing with Python and Jupyter Notebooks</h1>\n"
   ]
  },
  {
   "attachments": {},
   "cell_type": "markdown",
   "metadata": {},
   "source": [
    "This is a Jupyter notebook. The name Jupyter comes from three popular languages for data processing: *JU*lia, *PYT*hon, and *R* (although Jupyter notebooks actually support dozens of other languages, too).\n",
    "\n",
    "A notebook is a document that contains markdown, code, and can produce code output all within the same file. It's an ideal way to add documentation, interpretation, and visualizations to your code to be able to share the entire project with others who have varied levels of technical expertise.\n",
    "\n",
    "Go ahead and \"run\" the code below by pressing the triangle *play* button to the left of the code block. Feel free to edit the code and run it again to see how it changes."
   ]
  },
  {
   "cell_type": "code",
   "execution_count": 1,
   "metadata": {},
   "outputs": [
    {
     "name": "stdout",
     "output_type": "stream",
     "text": [
      "True\n"
     ]
    }
   ],
   "source": [
    "def is_prime(n):\n",
    "    for k in range(2, n):\n",
    "        if n % k == 0:\n",
    "            return False\n",
    "\n",
    "    return n > 1\n",
    "\n",
    "print (is_prime(7))"
   ]
  },
  {
   "attachments": {},
   "cell_type": "markdown",
   "metadata": {},
   "source": [
    "<h3>Getting started with notebooks</h3>\n",
    "As always, we point you to the <a href=\"https://docs.jupyter.org/en/latest/\">official Jupyter documentation</a>.\n",
    "\n",
    "There are multiple options to start working with Jupyter notebooks.\n",
    "\n",
    "One is to use pip install, which is offically recommended for *experienced Python users*, but by now you should be feeling like an experienced Python user, right?\n",
    "\n",
    "Another option is to use the <a href=\"https://www.anaconda.com/download\">Anaconda</a> environment.\n",
    "\n",
    "* <a href=\"https://docs.jupyter.org/en/latest/install/notebook-classic.html#alternative-for-experienced-python-users-installing-jupyter-with-pip\">Pip Install</a>\n",
    "  * You'll also need to pip install several packages depending on what you want to do within your notebooks. Let's start with matplotlib for now. \n",
    "* <a href=\"https://docs.jupyter.org/en/latest/install/notebook-classic.html#installing-jupyter-using-anaconda-and-conda\">Anaconda Install</a>\n",
    "\n",
    "Once you have this setup correctly, you should be able to successfully run the code below. It is simply taking 4 values and arranging them in a pie chart."
   ]
  },
  {
   "cell_type": "code",
   "execution_count": 3,
   "metadata": {},
   "outputs": [
    {
     "name": "stdout",
     "output_type": "stream",
     "text": [
      "Requirement already satisfied: matplotlib in c:\\users\\dhend\\appdata\\local\\programs\\python\\python311\\lib\\site-packages (3.8.4)\n",
      "Requirement already satisfied: contourpy>=1.0.1 in c:\\users\\dhend\\appdata\\local\\programs\\python\\python311\\lib\\site-packages (from matplotlib) (1.2.1)\n",
      "Requirement already satisfied: cycler>=0.10 in c:\\users\\dhend\\appdata\\local\\programs\\python\\python311\\lib\\site-packages (from matplotlib) (0.12.1)\n",
      "Requirement already satisfied: fonttools>=4.22.0 in c:\\users\\dhend\\appdata\\local\\programs\\python\\python311\\lib\\site-packages (from matplotlib) (4.51.0)\n",
      "Requirement already satisfied: kiwisolver>=1.3.1 in c:\\users\\dhend\\appdata\\local\\programs\\python\\python311\\lib\\site-packages (from matplotlib) (1.4.5)\n",
      "Requirement already satisfied: numpy>=1.21 in c:\\users\\dhend\\appdata\\local\\programs\\python\\python311\\lib\\site-packages (from matplotlib) (1.26.4)\n",
      "Requirement already satisfied: packaging>=20.0 in c:\\users\\dhend\\appdata\\local\\programs\\python\\python311\\lib\\site-packages (from matplotlib) (23.1)\n",
      "Requirement already satisfied: pillow>=8 in c:\\users\\dhend\\appdata\\local\\programs\\python\\python311\\lib\\site-packages (from matplotlib) (10.3.0)\n",
      "Requirement already satisfied: pyparsing>=2.3.1 in c:\\users\\dhend\\appdata\\local\\programs\\python\\python311\\lib\\site-packages (from matplotlib) (3.1.2)\n",
      "Requirement already satisfied: python-dateutil>=2.7 in c:\\users\\dhend\\appdata\\roaming\\python\\python311\\site-packages (from matplotlib) (2.9.0.post0)\n",
      "Requirement already satisfied: six>=1.5 in c:\\users\\dhend\\appdata\\roaming\\python\\python311\\site-packages (from python-dateutil>=2.7->matplotlib) (1.16.0)\n"
     ]
    },
    {
     "name": "stderr",
     "output_type": "stream",
     "text": [
      "\n",
      "[notice] A new release of pip is available: 23.3.1 -> 24.0\n",
      "[notice] To update, run: python.exe -m pip install --upgrade pip\n"
     ]
    },
    {
     "data": {
      "image/png": "[encoded data removed]",
      "text/plain": [
       "<Figure size 640x480 with 1 Axes>"
      ]
     },
     "metadata": {},
     "output_type": "display_data"
    }
   ],
   "source": [
    "# update: you might sometimes find it helpful to install directly from within the notebook kernel\n",
    "import sys\n",
    "!{sys.executable} -m pip install matplotlib\n",
    "\n",
    "# import your libraries (they must have already been installed)\n",
    "import matplotlib\n",
    "import matplotlib.pyplot as plt\n",
    "import numpy as np\n",
    "\n",
    "y = np.array([35, 25, 25, 15,1])\n",
    "\n",
    "plt.pie(y)\n",
    "plt.show() "
   ]
  },
  {
   "attachments": {},
   "cell_type": "markdown",
   "metadata": {},
   "source": [
    "You'll notice that we didn't have to specify very much. The colors and sizes of the pie slices are determined automatically. In our example, the numbers added up to 100, so the array indicates one category (shown in blue) represents 35% of the total and another category (shown in red) represents 15% of the total. What happens if you change these numbers?"
   ]
  }
 ],
 "metadata": {
  "kernelspec": {
   "display_name": ".venv",
   "language": "python",
   "name": "python3"
  },
  "language_info": {
   "codemirror_mode": {
    "name": "ipython",
    "version": 3
   },
   "file_extension": ".py",
   "mimetype": "text/x-python",
   "name": "python",
   "nbconvert_exporter": "python",
   "pygments_lexer": "ipython3",
   "version": "3.11.6"
  },
  "orig_nbformat": 4
 },
 "nbformat": 4,
 "nbformat_minor": 2
}
